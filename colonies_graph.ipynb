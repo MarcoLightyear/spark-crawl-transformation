{
 "cells": [
  {
   "cell_type": "code",
   "execution_count": 10,
   "id": "2c1c1826-d26a-4d84-a676-031b7cf0d5e4",
   "metadata": {
    "tags": []
   },
   "outputs": [],
   "source": [
    "from google.cloud import bigquery\n",
    "\n",
    "client = bigquery.Client()"
   ]
  },
  {
   "cell_type": "code",
   "execution_count": 25,
   "id": "d7b28bcc-d48f-4107-a9da-0ef855ec2579",
   "metadata": {
    "tags": []
   },
   "outputs": [],
   "source": [
    "sql = \"\"\"\n",
    "SELECT v.targetURI as Source, e.edge as Target FROM `data-analysis-upmx-holding.clean_common_crawl_upmx.edges_limited` e \n",
    "LEFT JOIN `data-analysis-upmx-holding.clean_common_crawl_upmx.vertices_limited` v on CAST(e.targetURIId AS INT64) = v.id\n",
    "WHERE v.targetURI IS NOT NULL AND e.edge IS NOT NULL\n",
    "LIMIT 10000\n",
    "\"\"\""
   ]
  },
  {
   "cell_type": "code",
   "execution_count": 26,
   "id": "e91cd610-9902-4d87-97d1-4a47e3a30c8d",
   "metadata": {
    "tags": []
   },
   "outputs": [],
   "source": [
    "edges = client.query(sql).to_dataframe()"
   ]
  },
  {
   "cell_type": "code",
   "execution_count": 27,
   "id": "0caf88ac-fcc2-4cbc-a81f-5dbe1151e2b3",
   "metadata": {
    "tags": []
   },
   "outputs": [
    {
     "data": {
      "text/html": [
       "<div>\n",
       "<style scoped>\n",
       "    .dataframe tbody tr th:only-of-type {\n",
       "        vertical-align: middle;\n",
       "    }\n",
       "\n",
       "    .dataframe tbody tr th {\n",
       "        vertical-align: top;\n",
       "    }\n",
       "\n",
       "    .dataframe thead th {\n",
       "        text-align: right;\n",
       "    }\n",
       "</style>\n",
       "<table border=\"1\" class=\"dataframe\">\n",
       "  <thead>\n",
       "    <tr style=\"text-align: right;\">\n",
       "      <th></th>\n",
       "      <th>Source</th>\n",
       "      <th>Target</th>\n",
       "    </tr>\n",
       "  </thead>\n",
       "  <tbody>\n",
       "    <tr>\n",
       "      <th>0</th>\n",
       "      <td>https://www.catherinecoulter.com</td>\n",
       "      <td>https://www.theliterarytimes.com</td>\n",
       "    </tr>\n",
       "    <tr>\n",
       "      <th>1</th>\n",
       "      <td>https://www.cathrynhein.com</td>\n",
       "      <td>https://gmpg.org</td>\n",
       "    </tr>\n",
       "    <tr>\n",
       "      <th>2</th>\n",
       "      <td>https://www.cathrynhein.com</td>\n",
       "      <td>https://app.ecwid.com</td>\n",
       "    </tr>\n",
       "    <tr>\n",
       "      <th>3</th>\n",
       "      <td>https://www.cathrynhein.com</td>\n",
       "      <td>https://ecomm.events</td>\n",
       "    </tr>\n",
       "    <tr>\n",
       "      <th>4</th>\n",
       "      <td>https://www.cathrynhein.com</td>\n",
       "      <td>https://d1q3axnfhmyveb.cloudfront.net</td>\n",
       "    </tr>\n",
       "  </tbody>\n",
       "</table>\n",
       "</div>"
      ],
      "text/plain": [
       "                             Source                                 Target\n",
       "0  https://www.catherinecoulter.com       https://www.theliterarytimes.com\n",
       "1       https://www.cathrynhein.com                       https://gmpg.org\n",
       "2       https://www.cathrynhein.com                  https://app.ecwid.com\n",
       "3       https://www.cathrynhein.com                   https://ecomm.events\n",
       "4       https://www.cathrynhein.com  https://d1q3axnfhmyveb.cloudfront.net"
      ]
     },
     "execution_count": 27,
     "metadata": {},
     "output_type": "execute_result"
    }
   ],
   "source": [
    "edges.head()"
   ]
  },
  {
   "cell_type": "code",
   "execution_count": 28,
   "id": "98014735-4220-4266-8ad0-d2ef5c217923",
   "metadata": {
    "tags": []
   },
   "outputs": [],
   "source": [
    "import networkx as nx\n",
    "G = nx.from_pandas_edgelist(edges, source='Source', target='Target')"
   ]
  },
  {
   "cell_type": "code",
   "execution_count": 29,
   "id": "402940a1-660d-4ce1-abf4-7aa3dfefd081",
   "metadata": {
    "tags": []
   },
   "outputs": [],
   "source": [
    "#pip install pyvis"
   ]
  },
  {
   "cell_type": "code",
   "execution_count": 30,
   "id": "71078be7-841b-4284-8de1-f99bc27a2a9f",
   "metadata": {
    "tags": []
   },
   "outputs": [
    {
     "name": "stdout",
     "output_type": "stream",
     "text": [
      "Warning: When  cdn_resources is 'local' jupyter notebook has issues displaying graphics on chrome/safari. Use cdn_resources='in_line' or cdn_resources='remote' if you have issues viewing graphics in a notebook.\n",
      "example.html\n"
     ]
    },
    {
     "data": {
      "text/html": [
       "\n",
       "        <iframe\n",
       "            width=\"100%\"\n",
       "            height=\"600px\"\n",
       "            src=\"example.html\"\n",
       "            frameborder=\"0\"\n",
       "            allowfullscreen\n",
       "            \n",
       "        ></iframe>\n",
       "        "
      ],
      "text/plain": [
       "<IPython.lib.display.IFrame at 0x7f9ea5db0a60>"
      ]
     },
     "execution_count": 30,
     "metadata": {},
     "output_type": "execute_result"
    }
   ],
   "source": [
    "from pyvis.network import Network\n",
    "net = Network(notebook=True)\n",
    "net.from_nx(G)\n",
    "net.show(\"network_graph.html\")"
   ]
  },
  {
   "cell_type": "code",
   "execution_count": null,
   "id": "1415f816-2bba-4929-835e-bbf0e8b4e1ef",
   "metadata": {},
   "outputs": [],
   "source": []
  }
 ],
 "metadata": {
  "kernelspec": {
   "display_name": "Python (Local)",
   "language": "python",
   "name": "base"
  },
  "language_info": {
   "codemirror_mode": {
    "name": "ipython",
    "version": 3
   },
   "file_extension": ".py",
   "mimetype": "text/x-python",
   "name": "python",
   "nbconvert_exporter": "python",
   "pygments_lexer": "ipython3",
   "version": "3.10.13"
  }
 },
 "nbformat": 4,
 "nbformat_minor": 5
}
