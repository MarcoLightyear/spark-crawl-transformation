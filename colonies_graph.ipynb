{
 "cells": [
  {
   "cell_type": "code",
   "execution_count": null,
   "id": "2c1c1826-d26a-4d84-a676-031b7cf0d5e4",
   "metadata": {
    "tags": []
   },
   "outputs": [],
   "source": [
    "from google.cloud import bigquery\n",
    "\n",
    "client = bigquery.Client()"
   ]
  },
  {
   "cell_type": "code",
   "execution_count": null,
   "id": "d7b28bcc-d48f-4107-a9da-0ef855ec2579",
   "metadata": {
    "tags": []
   },
   "outputs": [],
   "source": [
    "sql = \"\"\"\n",
    "SELECT v.targetURI as Source, e.edge as Target FROM `data-analysis-upmx-holding.clean_common_crawl_upmx.edges_limited` e \n",
    "LEFT JOIN `data-analysis-upmx-holding.clean_common_crawl_upmx.vertices_limited` v on CAST(e.targetURIId AS INT64) = v.id\n",
    "WHERE v.targetURI IS NOT NULL AND e.edge IS NOT NULL\n",
    "LIMIT 10000\n",
    "\"\"\""
   ]
  },
  {
   "cell_type": "code",
   "execution_count": null,
   "id": "e91cd610-9902-4d87-97d1-4a47e3a30c8d",
   "metadata": {
    "tags": []
   },
   "outputs": [],
   "source": [
    "edges = client.query(sql).to_dataframe()"
   ]
  },
  {
   "cell_type": "code",
   "execution_count": null,
   "id": "0caf88ac-fcc2-4cbc-a81f-5dbe1151e2b3",
   "metadata": {
    "tags": []
   },
   "outputs": [],
   "source": [
    "edges.head()"
   ]
  },
  {
   "cell_type": "code",
   "execution_count": null,
   "id": "98014735-4220-4266-8ad0-d2ef5c217923",
   "metadata": {
    "tags": []
   },
   "outputs": [],
   "source": [
    "import networkx as nx\n",
    "G = nx.from_pandas_edgelist(edges, source='Source', target='Target')"
   ]
  },
  {
   "cell_type": "code",
   "execution_count": null,
   "id": "402940a1-660d-4ce1-abf4-7aa3dfefd081",
   "metadata": {
    "tags": []
   },
   "outputs": [],
   "source": [
    "#pip install pyvis"
   ]
  },
  {
   "cell_type": "code",
   "execution_count": null,
   "id": "71078be7-841b-4284-8de1-f99bc27a2a9f",
   "metadata": {
    "tags": []
   },
   "outputs": [],
   "source": [
    "from pyvis.network import Network\n",
    "net = Network(notebook=True)\n",
    "net.from_nx(G)\n",
    "net.show(\"network_graph.html\")"
   ]
  },
  {
   "cell_type": "code",
   "execution_count": null,
   "id": "0dfbb61e",
   "metadata": {},
   "outputs": [],
   "source": [
    "G = nx.community.asyn_lpa_communities(G)\n",
    "net = Network(notebook=True)\n",
    "net.from_nx(G)\n",
    "net.show(\"reduced_network_graph.html\")"
   ]
  }
 ],
 "metadata": {
  "kernelspec": {
   "display_name": "Python (Local)",
   "language": "python",
   "name": "base"
  },
  "language_info": {
   "codemirror_mode": {
    "name": "ipython",
    "version": 3
   },
   "file_extension": ".py",
   "mimetype": "text/x-python",
   "name": "python",
   "nbconvert_exporter": "python",
   "pygments_lexer": "ipython3",
   "version": "3.10.13"
  }
 },
 "nbformat": 4,
 "nbformat_minor": 5
}
